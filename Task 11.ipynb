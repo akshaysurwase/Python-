{
 "cells": [
  {
   "cell_type": "markdown",
   "metadata": {},
   "source": [
    "Task 11"
   ]
  },
  {
   "cell_type": "raw",
   "metadata": {},
   "source": [
    "Ask 2 numbers from users and store it in num1 and num2\n",
    "Ask user to press 1 for addition,2 for subtraction,3 for multiplication and 4 for division\n",
    "create 4 seperate functions for each operation (i.e. addition,subtraction,multiplication and division)\n",
    "based on number given by user,call that perticular function and print the output"
   ]
  },
  {
   "cell_type": "code",
   "execution_count": 6,
   "metadata": {},
   "outputs": [
    {
     "name": "stdout",
     "output_type": "stream",
     "text": [
      "Enter the number 1:4\n",
      "Enter the number 2:5\n",
      "Enter what type of operation to do:1\n",
      "4 1 5 : 9\n"
     ]
    }
   ],
   "source": [
    "num1=int(input(\"Enter the number 1:\"))    #in this we are taking input as string using input()\n",
    "num2=int(input(\"Enter the number 2:\"))   #We are using int() to change it to an integer\n",
    "\n",
    "operation=input(\"Enter what type of operation to do:\")\n",
    "if operation=='1':\n",
    "    result = num1 + num2\n",
    "elif operation == '2':\n",
    "    result = num1 - num2\n",
    "elif operation == '3':\n",
    "    result = num1 * num2\n",
    "elif operation == '4':\n",
    "    result = num1 / num2\n",
    "else:\n",
    "    print(\"Input character is not recognized!\")\n",
    " \n",
    "print(num1, operation , num2, \":\", result)"
   ]
  },
  {
   "cell_type": "code",
   "execution_count": null,
   "metadata": {},
   "outputs": [],
   "source": [
    "#Seperate finction for Each task"
   ]
  },
  {
   "cell_type": "code",
   "execution_count": 7,
   "metadata": {},
   "outputs": [
    {
     "name": "stdout",
     "output_type": "stream",
     "text": [
      "5+6= 11\n"
     ]
    }
   ],
   "source": [
    "def add_numbers(a,b):\n",
    "   sum = a + b\n",
    "   return sum\n",
    "num1 = 5\n",
    "num2 = 6\n",
    "print(\"5\"+\"+\"+\"6\"+\"=\", add_numbers(num1, num2))"
   ]
  },
  {
   "cell_type": "code",
   "execution_count": 8,
   "metadata": {},
   "outputs": [
    {
     "name": "stdout",
     "output_type": "stream",
     "text": [
      "5+6= -1\n"
     ]
    }
   ],
   "source": [
    "def add_numbers(a,b):\n",
    "   sum = a - b\n",
    "   return sum\n",
    "num1 = 5\n",
    "num2 = 6\n",
    "print(\"5\"+\"+\"+\"6\"+\"=\", add_numbers(num1, num2))"
   ]
  },
  {
   "cell_type": "code",
   "execution_count": 9,
   "metadata": {},
   "outputs": [
    {
     "name": "stdout",
     "output_type": "stream",
     "text": [
      "5+6= 30\n"
     ]
    }
   ],
   "source": [
    "def add_numbers(a,b):\n",
    "   sum = a * b\n",
    "   return sum\n",
    "num1 = 5\n",
    "num2 = 6\n",
    "print(\"5\"+\"+\"+\"6\"+\"=\", add_numbers(num1, num2))"
   ]
  },
  {
   "cell_type": "code",
   "execution_count": 10,
   "metadata": {},
   "outputs": [
    {
     "name": "stdout",
     "output_type": "stream",
     "text": [
      "5+6= 0.8333333333333334\n"
     ]
    }
   ],
   "source": [
    "def add_numbers(a,b):\n",
    "   sum = a / b\n",
    "   return sum\n",
    "num1 = 5\n",
    "num2 = 6\n",
    "print(\"5\"+\"+\"+\"6\"+\"=\", add_numbers(num1, num2))"
   ]
  },
  {
   "cell_type": "code",
   "execution_count": null,
   "metadata": {},
   "outputs": [],
   "source": []
  }
 ],
 "metadata": {
  "kernelspec": {
   "display_name": "Python 3",
   "language": "python",
   "name": "python3"
  },
  "language_info": {
   "codemirror_mode": {
    "name": "ipython",
    "version": 3
   },
   "file_extension": ".py",
   "mimetype": "text/x-python",
   "name": "python",
   "nbconvert_exporter": "python",
   "pygments_lexer": "ipython3",
   "version": "3.8.3"
  }
 },
 "nbformat": 4,
 "nbformat_minor": 4
}
