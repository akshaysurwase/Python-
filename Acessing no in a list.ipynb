{
 "cells": [
  {
   "cell_type": "markdown",
   "metadata": {},
   "source": [
    "Task:-Accessing smallest and largest number.ipynb"
   ]
  },
  {
   "cell_type": "raw",
   "metadata": {},
   "source": [
    "Write a class which takes three inputs and returns the smallest and the largest number."
   ]
  },
  {
   "cell_type": "code",
   "execution_count": 1,
   "metadata": {},
   "outputs": [
    {
     "name": "stdout",
     "output_type": "stream",
     "text": [
      "The smallest number in list is: 5\n",
      "The largest number is: 77\n"
     ]
    }
   ],
   "source": [
    "class number:\n",
    "    def __init__(self,a,b,c):\n",
    "        self.a = a\n",
    "        self.b = b\n",
    "        self.c = c \n",
    "    def smallest(a,b,c):\n",
    "        list = [a,b,c]\n",
    "        small = list[0]\n",
    "        for i in list:\n",
    "            if i<small:\n",
    "                small = i \n",
    "        print(\"The smallest number in list is:\",small)\n",
    "    def largest(a,b,c):\n",
    "        list = [a,b,c]\n",
    "        large = list[0]\n",
    "        for i in list:\n",
    "            if i>large: \n",
    "                large = i \n",
    "        print(\"The largest number is:\",large)\n",
    "\n",
    "number.smallest(5,6,7)\n",
    "\n",
    "number.largest(23,56,77)"
   ]
  },
  {
   "cell_type": "code",
   "execution_count": null,
   "metadata": {},
   "outputs": [],
   "source": []
  }
 ],
 "metadata": {
  "kernelspec": {
   "display_name": "Python 3",
   "language": "python",
   "name": "python3"
  },
  "language_info": {
   "codemirror_mode": {
    "name": "ipython",
    "version": 3
   },
   "file_extension": ".py",
   "mimetype": "text/x-python",
   "name": "python",
   "nbconvert_exporter": "python",
   "pygments_lexer": "ipython3",
   "version": "3.8.3"
  }
 },
 "nbformat": 4,
 "nbformat_minor": 4
}
