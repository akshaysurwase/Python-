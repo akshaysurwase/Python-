{
 "cells": [
  {
   "cell_type": "raw",
   "metadata": {},
   "source": [
    "1.\tWrite a python function to accept user inputs, store it in a list and compute the highest number out of it. User can enter as many numbers as he/she wants.\n",
    "Take care of following things:\n",
    "1.\tInput must be entered by user\n",
    "2.\tException handling\n",
    "3.\tNull values\n",
    "4.\tErrors\n",
    "5.\tDatatypes\n",
    "Output of the function must be a number.\n",
    "It should accept correct values and for incorrect values, an error message must be displayed to the user."
   ]
  },
  {
   "cell_type": "code",
   "execution_count": null,
   "metadata": {},
   "outputs": [],
   "source": [
    "list = []\n",
    "while True:\n",
    "    try:\n",
    "        n = input(\"How many numbers: \")\n",
    "        n = int(n)\n",
    "        break\n",
    "    except ValueError:\n",
    "        print(\"No valid integer! Please try again ...\")\n",
    "for n in range(n):\n",
    "    numbers = int(input('Enter number '))\n",
    "    print(\"Enter an integer\")\n",
    "    \n",
    "print(\"Maximum element in the list is :\", max(list))"
   ]
  },
  {
   "cell_type": "code",
   "execution_count": 3,
   "metadata": {},
   "outputs": [
    {
     "name": "stdout",
     "output_type": "stream",
     "text": [
      "How many numbers: 4\n",
      "Enter number 5\n",
      "Enter an integer\n",
      "Enter number 6\n",
      "Enter an integer\n",
      "Enter number 7\n",
      "Enter an integer\n",
      "Enter number a\n",
      "Character not allowed\n",
      "Enter number 5\n",
      "Enter an integer\n",
      "Maximum element in the list is : 7\n"
     ]
    }
   ],
   "source": [
    "list = []\n",
    "while True:\n",
    "    try:\n",
    "        n = input(\"How many numbers: \")\n",
    "        n = int(n)\n",
    "        break\n",
    "    except ValueError:\n",
    "        print(\"No valid integer! Please try again ...\")\n",
    "for n in range(n):\n",
    "    while True:\n",
    "        try:\n",
    "            number = int(input('Enter number '))\n",
    "            number=int(number)\n",
    "            print(\"Enter an integer\")\n",
    "            list.append(number)\n",
    "            break\n",
    "        except ValueError:\n",
    "            print(\"Character not allowed\")\n",
    "        \n",
    "print(\"Maximum element in the list is :\", max(list))           "
   ]
  },
  {
   "cell_type": "code",
   "execution_count": null,
   "metadata": {},
   "outputs": [],
   "source": []
  }
 ],
 "metadata": {
  "kernelspec": {
   "display_name": "Python 3",
   "language": "python",
   "name": "python3"
  }
 },
 "nbformat": 4,
 "nbformat_minor": 4
}
