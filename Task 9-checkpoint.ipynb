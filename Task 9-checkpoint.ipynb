{
 "cells": [
  {
   "cell_type": "markdown",
   "metadata": {},
   "source": [
    "Task 9"
   ]
  },
  {
   "cell_type": "code",
   "execution_count": null,
   "metadata": {},
   "outputs": [],
   "source": [
    "#Ask 2 numbers from users and store it in num1 and num2\n",
    "#Ask user to press 1 for addition,2 for subtraction,3 for multiplication and 4 for division\n",
    "#based on number given by user do the math operation"
   ]
  },
  {
   "cell_type": "code",
   "execution_count": 12,
   "metadata": {},
   "outputs": [
    {
     "name": "stdout",
     "output_type": "stream",
     "text": [
      "Enter the number 11\n",
      "Enter the number 22\n",
      "Enter what type of operation to do:2\n",
      "1 2 2 : 2\n"
     ]
    }
   ],
   "source": [
    "num1=int(input(\"Enter the number 1\"))    #in this we are taking input as string using input()\n",
    "num2=int(input(\"Enter the number 2\"))   #We are using int() to change it to an integer\n",
    "\n",
    "operation=input(\"Enter what type of operation to do:\")\n",
    "\n",
    "result==0\n",
    "if operation=='1':\n",
    "      result = num1 + num2\n",
    "elif ch == '2':\n",
    "    result = num1 - num2\n",
    "elif ch == '3':\n",
    "    result = num1 * num2\n",
    "elif ch == '4':\n",
    "    result = num1 / num2\n",
    "else:\n",
    "    print(\"Input character is not recognized!\")\n",
    "    \n",
    "print(num1, operation , num2, \":\", result)\n",
    "\n",
    "    \n",
    "    \n",
    "    \n"
   ]
  },
  {
   "cell_type": "code",
   "execution_count": null,
   "metadata": {},
   "outputs": [],
   "source": []
  }
 ],
 "metadata": {
  "kernelspec": {
   "display_name": "Python 3",
   "language": "python",
   "name": "python3"
  },
  "language_info": {
   "codemirror_mode": {
    "name": "ipython",
    "version": 3
   },
   "file_extension": ".py",
   "mimetype": "text/x-python",
   "name": "python",
   "nbconvert_exporter": "python",
   "pygments_lexer": "ipython3",
   "version": "3.8.3"
  }
 },
 "nbformat": 4,
 "nbformat_minor": 4
}
